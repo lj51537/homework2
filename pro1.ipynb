{
 "cells": [
  {
   "cell_type": "code",
   "execution_count": 1,
   "id": "1e41c51a-202d-47ff-9def-bb7ea0d326a4",
   "metadata": {},
   "outputs": [
    {
     "name": "stdout",
     "output_type": "stream",
     "text": [
      "\n",
      "Performance Comparison for Different Depths:\n"
     ]
    },
    {
     "data": {
      "text/html": [
       "<style type=\"text/css\">\n",
       "</style>\n",
       "<table id=\"T_f9160\">\n",
       "  <caption>Model Performance by Depth</caption>\n",
       "  <thead>\n",
       "    <tr>\n",
       "      <th id=\"T_f9160_level0_col0\" class=\"col_heading level0 col0\" >Depth</th>\n",
       "      <th id=\"T_f9160_level0_col1\" class=\"col_heading level0 col1\" >Recall</th>\n",
       "      <th id=\"T_f9160_level0_col2\" class=\"col_heading level0 col2\" >Precision</th>\n",
       "      <th id=\"T_f9160_level0_col3\" class=\"col_heading level0 col3\" >F1 Score</th>\n",
       "    </tr>\n",
       "  </thead>\n",
       "  <tbody>\n",
       "    <tr>\n",
       "      <td id=\"T_f9160_row0_col0\" class=\"data row0 col0\" >1</td>\n",
       "      <td id=\"T_f9160_row0_col1\" class=\"data row0 col1\" >0.667000</td>\n",
       "      <td id=\"T_f9160_row0_col2\" class=\"data row0 col2\" >0.500000</td>\n",
       "      <td id=\"T_f9160_row0_col3\" class=\"data row0 col3\" >0.556000</td>\n",
       "    </tr>\n",
       "    <tr>\n",
       "      <td id=\"T_f9160_row1_col0\" class=\"data row1 col0\" >2</td>\n",
       "      <td id=\"T_f9160_row1_col1\" class=\"data row1 col1\" >0.974000</td>\n",
       "      <td id=\"T_f9160_row1_col2\" class=\"data row1 col2\" >0.976000</td>\n",
       "      <td id=\"T_f9160_row1_col3\" class=\"data row1 col3\" >0.974000</td>\n",
       "    </tr>\n",
       "    <tr>\n",
       "      <td id=\"T_f9160_row2_col0\" class=\"data row2 col0\" >3</td>\n",
       "      <td id=\"T_f9160_row2_col1\" class=\"data row2 col1\" >1.000000</td>\n",
       "      <td id=\"T_f9160_row2_col2\" class=\"data row2 col2\" >1.000000</td>\n",
       "      <td id=\"T_f9160_row2_col3\" class=\"data row2 col3\" >1.000000</td>\n",
       "    </tr>\n",
       "    <tr>\n",
       "      <td id=\"T_f9160_row3_col0\" class=\"data row3 col0\" >4</td>\n",
       "      <td id=\"T_f9160_row3_col1\" class=\"data row3 col1\" >1.000000</td>\n",
       "      <td id=\"T_f9160_row3_col2\" class=\"data row3 col2\" >1.000000</td>\n",
       "      <td id=\"T_f9160_row3_col3\" class=\"data row3 col3\" >1.000000</td>\n",
       "    </tr>\n",
       "    <tr>\n",
       "      <td id=\"T_f9160_row4_col0\" class=\"data row4 col0\" >5</td>\n",
       "      <td id=\"T_f9160_row4_col1\" class=\"data row4 col1\" >1.000000</td>\n",
       "      <td id=\"T_f9160_row4_col2\" class=\"data row4 col2\" >1.000000</td>\n",
       "      <td id=\"T_f9160_row4_col3\" class=\"data row4 col3\" >1.000000</td>\n",
       "    </tr>\n",
       "  </tbody>\n",
       "</table>\n"
      ],
      "text/plain": [
       "<pandas.io.formats.style.Styler at 0x204b50166c0>"
      ]
     },
     "metadata": {},
     "output_type": "display_data"
    },
    {
     "name": "stdout",
     "output_type": "stream",
     "text": [
      "\n",
      "Summary of Results:\n",
      "1. Model with the highest recall: Depth 3.0 (Recall = 1.0)\n",
      "2. Model with the lowest precision: Depth 1.0 (Precision = 0.5)\n",
      "3. Model with the best F1 score: Depth 3.0 (F1 Score = 1.0)\n"
     ]
    }
   ],
   "source": [
    "import pandas as pd\n",
    "from sklearn.datasets import load_iris\n",
    "from sklearn.model_selection import train_test_split\n",
    "from sklearn.tree import DecisionTreeClassifier\n",
    "from sklearn.metrics import precision_score, recall_score, f1_score\n",
    "\n",
    "\n",
    "iris_data = load_iris()\n",
    "features, labels = iris_data.data, iris_data.target\n",
    "\n",
    "# Split the dataset into training and testing sets\n",
    "train_X, test_X, train_y, test_y = train_test_split(features, labels, test_size=0.3, random_state=42)\n",
    "\n",
    "# Initialize a list to store evaluation results\n",
    "evaluation_results = []\n",
    "\n",
    "# Train models with different max depths and evaluate performance\n",
    "for depth in range(1, 6):\n",
    "    # Initialize the Decision Tree model\n",
    "    model = DecisionTreeClassifier(\n",
    "        max_depth=depth,\n",
    "        min_samples_leaf=2,\n",
    "        min_samples_split=5,\n",
    "        random_state=42\n",
    "    )\n",
    "    \n",
    "    # Train the model\n",
    "    model.fit(train_X, train_y)\n",
    "    \n",
    "    # Make predictions on the test set\n",
    "    predictions = model.predict(test_X)\n",
    "    \n",
    "    # Calculate evaluation metrics\n",
    "    prec = precision_score(test_y, predictions, average=\"macro\", zero_division=0)\n",
    "    rec = recall_score(test_y, predictions, average=\"macro\", zero_division=0)\n",
    "    f1_val = f1_score(test_y, predictions, average=\"macro\", zero_division=0)\n",
    "    \n",
    "    # Append results to the list\n",
    "    evaluation_results.append({\n",
    "        \"Depth\": depth,\n",
    "        \"Recall\": round(rec, 3),\n",
    "        \"Precision\": round(prec, 3),\n",
    "        \"F1 Score\": round(f1_val, 3)\n",
    "    })\n",
    "\n",
    "# Convert results to a DataFrame and display\n",
    "results_df = pd.DataFrame(evaluation_results)\n",
    "print(\"\\nPerformance Comparison for Different Depths:\")\n",
    "display(results_df.style.set_caption(\"Model Performance by Depth\").hide(axis=\"index\"))\n",
    "\n",
    "# Find the best and worst performing models\n",
    "best_recall = results_df.iloc[results_df['Recall'].idxmax()]\n",
    "worst_precision = results_df.iloc[results_df['Precision'].idxmin()]\n",
    "best_f1 = results_df.iloc[results_df['F1 Score'].idxmax()]\n",
    "\n",
    "# Print conclusions\n",
    "print(\"\\nSummary of Results:\")\n",
    "print(f\"1. Model with the highest recall: Depth {best_recall['Depth']} (Recall = {best_recall['Recall']})\")\n",
    "print(f\"2. Model with the lowest precision: Depth {worst_precision['Depth']} (Precision = {worst_precision['Precision']})\")\n",
    "print(f\"3. Model with the best F1 score: Depth {best_f1['Depth']} (F1 Score = {best_f1['F1 Score']})\")\n"
   ]
  },
  {
   "cell_type": "code",
   "execution_count": null,
   "id": "a45ec14e-69fc-4e6e-a933-22208545d3ca",
   "metadata": {},
   "outputs": [],
   "source": []
  },
  {
   "cell_type": "code",
   "execution_count": null,
   "id": "f705a5ad-6c31-437c-9fc2-f351e6b48643",
   "metadata": {},
   "outputs": [],
   "source": []
  }
 ],
 "metadata": {
  "kernelspec": {
   "display_name": "Python 3 (ipykernel)",
   "language": "python",
   "name": "python3"
  },
  "language_info": {
   "codemirror_mode": {
    "name": "ipython",
    "version": 3
   },
   "file_extension": ".py",
   "mimetype": "text/x-python",
   "name": "python",
   "nbconvert_exporter": "python",
   "pygments_lexer": "ipython3",
   "version": "3.12.0"
  }
 },
 "nbformat": 4,
 "nbformat_minor": 5
}
